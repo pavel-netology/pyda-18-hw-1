{
 "cells": [
  {
   "cell_type": "markdown",
   "metadata": {},
   "source": [
    "# Задание 1 - код, который проверяет какая из этих строк длиннее."
   ]
  },
  {
   "cell_type": "code",
   "execution_count": 1,
   "metadata": {},
   "outputs": [],
   "source": [
    "phrase_1='я начал изучать питон'"
   ]
  },
  {
   "cell_type": "code",
   "execution_count": 2,
   "metadata": {},
   "outputs": [],
   "source": [
    "phrase_2='скоро я стану аналитиком'"
   ]
  },
  {
   "cell_type": "code",
   "execution_count": 3,
   "metadata": {},
   "outputs": [
    {
     "name": "stdout",
     "output_type": "stream",
     "text": [
      "Вторая фраза длиннее первой фразы\n"
     ]
    }
   ],
   "source": [
    "if len(phrase_1)>len(phrase_2):\n",
    "    print('Первая фраза длиннее второй фразы')\n",
    "elif len(phrase_1)==len(phrase_2):\n",
    "    print('Первая фраза равна второй фразе по длине')\n",
    "else:\n",
    "    print('Вторая фраза длиннее первой фразы')"
   ]
  },
  {
   "cell_type": "markdown",
   "metadata": {},
   "source": [
    "# Задание 2 - код, определяющий високосный год или нет"
   ]
  },
  {
   "cell_type": "code",
   "execution_count": 4,
   "metadata": {},
   "outputs": [],
   "source": [
    "year=2004"
   ]
  },
  {
   "cell_type": "code",
   "execution_count": 5,
   "metadata": {},
   "outputs": [
    {
     "name": "stdout",
     "output_type": "stream",
     "text": [
      "2004 - високосный год\n"
     ]
    }
   ],
   "source": [
    "if year%4==0 and year%100>0:\n",
    "    print(year,'- високосный год')\n",
    "elif year%400==0:\n",
    "    print(year,'- високосный год')\n",
    "else:\n",
    "    print(year,'- невисоскосный год')"
   ]
  },
  {
   "cell_type": "markdown",
   "metadata": {},
   "source": [
    "# Задание 3 - код, определяющий знак зодиака"
   ]
  },
  {
   "cell_type": "code",
   "execution_count": 43,
   "metadata": {},
   "outputs": [
    {
     "name": "stdout",
     "output_type": "stream",
     "text": [
      "Месяц рожденияпохрен\n",
      "Число рождения21\n",
      "Данные введены некорректно!\n"
     ]
    }
   ],
   "source": [
    "month=input('Месяц рождения')\n",
    "date=int(input('Число рождения'))\n",
    "if month=='январь' or month=='Январь':\n",
    "    if date>0 and date<=19:\n",
    "        print('козерог')\n",
    "    else:\n",
    "        print('водолей')\n",
    "elif month=='февраль':  \n",
    "    if 19>=date>0:\n",
    "        print('водолей')\n",
    "    else:\n",
    "        print('рыбы')\n",
    "elif month=='март':  \n",
    "    if 20>=date>0:\n",
    "        print('рыбы')\n",
    "    elif date>20:\n",
    "        print('овен')\n",
    "elif month=='апрель': \n",
    "    if 20>=date>0:\n",
    "        print('овен')\n",
    "    elif date>20:\n",
    "        print('телец')\n",
    "elif month=='май': \n",
    "    if 21>=date>0:\n",
    "        print('телец')\n",
    "    elif date>21:\n",
    "        print('близнецы')\n",
    "elif month=='июнь':  \n",
    "    if 21>=date>0:\n",
    "        print('близнецы')\n",
    "    elif date>21:\n",
    "        print('рак')\n",
    "elif month=='июль':  \n",
    "    if 22>=date>0:\n",
    "        print('рак')\n",
    "    elif date>20:\n",
    "        print('лев')\n",
    "elif month=='август': \n",
    "    if 23>=date>0:\n",
    "        print('лев')\n",
    "    elif date>23:\n",
    "        print('дева')\n",
    "elif month=='сентябрь': \n",
    "    if 23>=date>0:\n",
    "        print('дева')\n",
    "    elif date>23:\n",
    "        print('весы')\n",
    "elif month=='октябрь':  \n",
    "    if 22>=date>0:\n",
    "        print('весы')\n",
    "    elif date>22:\n",
    "        print('скорпион')\n",
    "elif month=='ноябрь': \n",
    "    if 22>=date>0:\n",
    "        print('скорпион')\n",
    "    elif date>22:\n",
    "        print('стрелец')\n",
    "elif month=='декабрь': \n",
    "    if 21>=date>0:\n",
    "        print('стрелец')\n",
    "    elif date>21:\n",
    "        print('козерог')\n",
    "else:\n",
    "    print('Данные введены некорректно!')"
   ]
  },
  {
   "cell_type": "markdown",
   "metadata": {},
   "source": [
    "# Задание 4 - код для подбора размера упаковки "
   ]
  },
  {
   "cell_type": "code",
   "execution_count": 25,
   "metadata": {},
   "outputs": [
    {
     "name": "stdout",
     "output_type": "stream",
     "text": [
      "Длина коробки, см 45\n",
      "Ширина коробки, см 23\n",
      "Высота коробки, см 34\n",
      "Коробка №2\n"
     ]
    }
   ],
   "source": [
    "lengh=int(input('Длина коробки, см '))\n",
    "width=int(input('Ширина коробки, см '))\n",
    "height=int(input('Высота коробки, см '))\n",
    "if lengh>200:\n",
    "    print('Упаковка для лыж')\n",
    "else:\n",
    "    if width<15 and height<15 and lengh<15:\n",
    "                print('Коробка №1')\n",
    "    elif width<50 and height<50 and lengh<50:\n",
    "                print('Коробка №2')\n",
    "    else:\n",
    "                print('Коробка №3')"
   ]
  },
  {
   "cell_type": "markdown",
   "metadata": {},
   "source": [
    "# Задание 5* - код для вычисления счастливого билета"
   ]
  },
  {
   "cell_type": "code",
   "execution_count": 35,
   "metadata": {},
   "outputs": [
    {
     "name": "stdout",
     "output_type": "stream",
     "text": [
      "счастливый билет\n"
     ]
    }
   ],
   "source": [
    "a=123321\n",
    "a1=a//1000\n",
    "a2=a%1000\n",
    "one=a1//100\n",
    "two=(a1//10)%10\n",
    "three=a1%10\n",
    "four=a2//100\n",
    "five=(a2//10)%10\n",
    "six=a2%10\n",
    "if one+two+three==four+five+six:\n",
    "    print('счастливый билет')\n",
    "else:\n",
    "    print('несчастливый билет')"
   ]
  },
  {
   "cell_type": "markdown",
   "metadata": {},
   "source": [
    "# Задание 6* - код для вычисления площади фигур "
   ]
  },
  {
   "cell_type": "code",
   "execution_count": 21,
   "metadata": {},
   "outputs": [
    {
     "name": "stdout",
     "output_type": "stream",
     "text": [
      "Укажите тип фигуры круг\n",
      "Укажите радиус круга 4\n",
      "50.24\n"
     ]
    }
   ],
   "source": [
    "from math import sqrt\n",
    "form=input('Укажите тип фигуры ')\n",
    "if form=='круг':\n",
    "    radius=float(input('Укажите радиус круга '))\n",
    "    print((radius**2)*3.14)\n",
    "elif form=='треугольник':\n",
    "    a_side=float(input('Укажите длину стороны A '))\n",
    "    b_side=float(input('Укажите длину стороны B '))\n",
    "    c_side=float(input('Укажите длину стороны C '))\n",
    "    p_triangle=0.5*(a_side+b_side+c_side)\n",
    "    print(sqrt(p_triangle*(p_triangle-a_side)*(p_triangle-b_side)*(p_triangle-c_side)))\n",
    "elif form=='прямоугольник':\n",
    "    width=float(input('Укажите ширину прямоугольник '))\n",
    "    lengh=float(input('Укажите длину треугольника '))\n",
    "    print(width*lengh)\n",
    "    "
   ]
  }
 ],
 "metadata": {
  "kernelspec": {
   "display_name": "Python 3",
   "language": "python",
   "name": "python3"
  },
  "language_info": {
   "codemirror_mode": {
    "name": "ipython",
    "version": 3
   },
   "file_extension": ".py",
   "mimetype": "text/x-python",
   "name": "python",
   "nbconvert_exporter": "python",
   "pygments_lexer": "ipython3",
   "version": "3.8.5"
  }
 },
 "nbformat": 4,
 "nbformat_minor": 4
}
